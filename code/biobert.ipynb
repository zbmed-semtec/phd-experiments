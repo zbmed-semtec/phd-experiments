{
 "cells": [
  {
   "cell_type": "markdown",
   "id": "1ddac02c",
   "metadata": {},
   "source": [
    "## BERT NER Models Analysis\n",
    "\n",
    "This notebook explores the following BERT based models for NER in the biomedical domain using text from different corpus\n",
    "\n",
    "Models Considered:\n",
    "1. [d4data/biomedical-ner-all](https://huggingface.co/d4data/biomedical-ner-all)\n",
    "2. [siddharthtumre/biobert-finetuned-ner](https://huggingface.co/siddharthtumre/biobert-finetuned-ner)\n",
    "3. [fidukm34/biobert_v1.1_pubmed-finetuned-ner](https://huggingface.co/fidukm34/biobert_v1.1_pubmed-finetuned-ner)\n",
    "\n",
    "Document Sources:\n",
    "1. PubMed\n",
    "2. bioRxiv\n",
    "3. medRxiv\n"
   ]
  },
  {
   "cell_type": "markdown",
   "id": "3919cb7e",
   "metadata": {},
   "source": [
    "#### Installing Libraries"
   ]
  },
  {
   "cell_type": "code",
   "execution_count": null,
   "id": "f595684f",
   "metadata": {},
   "outputs": [
    {
     "name": "stdout",
     "output_type": "stream",
     "text": [
      "Collecting biorxiv_retriever\n",
      "  Downloading biorxiv_retriever-0.20.1.tar.gz (4.0 kB)\n",
      "  Preparing metadata (setup.py) ... \u001b[?25ldone\n",
      "\u001b[?25hCollecting beautifulsoup4\n",
      "  Downloading beautifulsoup4-4.13.4-py3-none-any.whl (187 kB)\n",
      "\u001b[2K     \u001b[90m━━━━━━━━━━━━━━━━━━━━━━━━━━━━━━━━━━━━━━━\u001b[0m \u001b[32m187.3/187.3 KB\u001b[0m \u001b[31m5.1 MB/s\u001b[0m eta \u001b[36m0:00:00\u001b[0m00:01\u001b[0m\n",
      "\u001b[?25hCollecting lxml\n",
      "  Downloading lxml-6.0.0-cp310-cp310-manylinux_2_27_x86_64.manylinux_2_28_x86_64.whl (5.3 MB)\n",
      "\u001b[2K     \u001b[90m━━━━━━━━━━━━━━━━━━━━━━━━━━━━━━━━━━━━━━━━\u001b[0m \u001b[32m5.3/5.3 MB\u001b[0m \u001b[31m21.2 MB/s\u001b[0m eta \u001b[36m0:00:00\u001b[0m00:01\u001b[0m00:01\u001b[0m\n",
      "\u001b[?25hRequirement already satisfied: tqdm in /home/ubuntu/phd-experiments/venv/lib/python3.10/site-packages (from biorxiv_retriever) (4.67.1)\n",
      "Requirement already satisfied: typing-extensions>=4.0.0 in /home/ubuntu/phd-experiments/venv/lib/python3.10/site-packages (from beautifulsoup4->biorxiv_retriever) (4.14.1)\n",
      "Collecting soupsieve>1.2\n",
      "  Downloading soupsieve-2.7-py3-none-any.whl (36 kB)\n",
      "Using legacy 'setup.py install' for biorxiv_retriever, since package 'wheel' is not installed.\n",
      "Installing collected packages: soupsieve, lxml, beautifulsoup4, biorxiv_retriever\n",
      "  Running setup.py install for biorxiv_retriever ... \u001b[?25ldone\n",
      "\u001b[?25hSuccessfully installed beautifulsoup4-4.13.4 biorxiv_retriever-0.20.1 lxml-6.0.0 soupsieve-2.7\n"
     ]
    }
   ],
   "source": [
    "# !pip install transformers pandas\n",
    "# ! pip install torch\n",
    "\n",
    "import pandas as pd\n",
    "from transformers import AutoTokenizer, AutoModelForTokenClassification, pipeline"
   ]
  },
  {
   "cell_type": "code",
   "execution_count": 33,
   "id": "aa1a36ad",
   "metadata": {},
   "outputs": [],
   "source": [
    "pubmed_df = pd.read_csv(\"../data/pubmed_papers.tsv\", sep=\"\\t\")\n",
    "\n",
    "biorxiv_df = pd.read_csv(\"../data/biorxiv_papers.tsv\", sep=\"\\t\")"
   ]
  },
  {
   "cell_type": "markdown",
   "id": "305ec2ad",
   "metadata": {},
   "source": [
    "### Model 1: d4data/biomedical-ner-all\n",
    "\n",
    "\n",
    "- Built on top of *distilbert-base-uncased*\n",
    "- Trained on Maccrobat dataset: consists of 200 annotation documents and corresponding PMIDs\n"
   ]
  },
  {
   "cell_type": "code",
   "execution_count": 7,
   "id": "1e460e75",
   "metadata": {},
   "outputs": [
    {
     "name": "stderr",
     "output_type": "stream",
     "text": [
      "Device set to use cuda:0\n"
     ]
    }
   ],
   "source": [
    "MODEL_NAME = \"d4data/biomedical-ner-all\" \n",
    "tokenizer = AutoTokenizer.from_pretrained(MODEL_NAME)\n",
    "model = AutoModelForTokenClassification.from_pretrained(MODEL_NAME)\n",
    "\n",
    "\n",
    "ner_pipeline = pipeline(\"ner\", model=model, tokenizer=tokenizer, aggregation_strategy=\"simple\")"
   ]
  },
  {
   "cell_type": "markdown",
   "id": "f561583d",
   "metadata": {},
   "source": [
    "#### Checking the model BIO tags\n",
    "\n",
    "Beginning - Inside - Outside\n"
   ]
  },
  {
   "cell_type": "code",
   "execution_count": 8,
   "id": "4bc866fa",
   "metadata": {},
   "outputs": [
    {
     "name": "stdout",
     "output_type": "stream",
     "text": [
      "0: O\n",
      "1: B-Activity\n",
      "2: B-Administration\n",
      "3: B-Age\n",
      "4: B-Area\n",
      "5: B-Biological_attribute\n",
      "6: B-Biological_structure\n",
      "7: B-Clinical_event\n",
      "8: B-Color\n",
      "9: B-Coreference\n",
      "10: B-Date\n",
      "11: B-Detailed_description\n",
      "12: B-Diagnostic_procedure\n",
      "13: B-Disease_disorder\n",
      "14: B-Distance\n",
      "15: B-Dosage\n",
      "16: B-Duration\n",
      "17: B-Family_history\n",
      "18: B-Frequency\n",
      "19: B-Height\n",
      "20: B-History\n",
      "21: B-Lab_value\n",
      "22: B-Mass\n",
      "23: B-Medication\n",
      "24: B-Non[biological](Detailed_description\n",
      "25: B-Nonbiological_location\n",
      "26: B-Occupation\n",
      "27: B-Other_entity\n",
      "28: B-Other_event\n",
      "29: B-Outcome\n",
      "30: B-Personal_[back](Biological_structure\n",
      "31: B-Personal_background\n",
      "32: B-Qualitative_concept\n",
      "33: B-Quantitative_concept\n",
      "34: B-Severity\n",
      "35: B-Sex\n",
      "36: B-Shape\n",
      "37: B-Sign_symptom\n",
      "38: B-Subject\n",
      "39: B-Texture\n",
      "40: B-Therapeutic_procedure\n",
      "41: B-Time\n",
      "42: B-Volume\n",
      "43: B-Weight\n",
      "44: I-Activity\n",
      "45: I-Administration\n",
      "46: I-Age\n",
      "47: I-Area\n",
      "48: I-Biological_attribute\n",
      "49: I-Biological_structure\n",
      "50: I-Clinical_event\n",
      "51: I-Color\n",
      "52: I-Coreference\n",
      "53: I-Date\n",
      "54: I-Detailed_description\n",
      "55: I-Diagnostic_procedure\n",
      "56: I-Disease_disorder\n",
      "57: I-Distance\n",
      "58: I-Dosage\n",
      "59: I-Duration\n",
      "60: I-Family_history\n",
      "61: I-Frequency\n",
      "62: I-Height\n",
      "63: I-History\n",
      "64: I-Lab_value\n",
      "65: I-Mass\n",
      "66: I-Medication\n",
      "67: I-Nonbiological_location\n",
      "68: I-Occupation\n",
      "69: I-Other_entity\n",
      "70: I-Other_event\n",
      "71: I-Outcome\n",
      "72: I-Personal_background\n",
      "73: I-Qualitative_concept\n",
      "74: I-Quantitative_concept\n",
      "75: I-Severity\n",
      "76: I-Shape\n",
      "77: I-Sign_symptom\n",
      "78: I-Subject\n",
      "79: I-Texture\n",
      "80: I-Therapeutic_procedure\n",
      "81: I-Time\n",
      "82: I-Volume\n",
      "83: I-Weight\n"
     ]
    }
   ],
   "source": [
    "for tag in model.config.id2label:\n",
    "    print(f\"{tag}: {model.config.id2label[tag]}\")"
   ]
  },
  {
   "cell_type": "markdown",
   "id": "8f55bd1e",
   "metadata": {},
   "source": [
    "#### Printing the recognised entities and the corresponding entity groups"
   ]
  },
  {
   "cell_type": "code",
   "execution_count": null,
   "id": "4ab8f3c0",
   "metadata": {},
   "outputs": [
    {
     "name": "stdout",
     "output_type": "stream",
     "text": [
      "\n",
      "--- PMID: 28600191 ---\n",
      "[{'entity_group': 'Detailed_description', 'score': np.float32(0.8960703), 'word': 'lipid - polymer hybrid nano', 'start': 0, 'end': 25}, {'entity_group': 'Detailed_description', 'score': np.float32(0.5850217), 'word': '##le', 'start': 31, 'end': 33}, {'entity_group': 'Detailed_description', 'score': np.float32(0.87572235), 'word': 'lipid - polymer hybrid nano', 'start': 128, 'end': 153}, {'entity_group': 'Detailed_description', 'score': np.float32(0.9021482), 'word': '##ticles', 'start': 156, 'end': 162}, {'entity_group': 'Detailed_description', 'score': np.float32(0.6210673), 'word': 'lp', 'start': 164, 'end': 166}, {'entity_group': 'Coreference', 'score': np.float32(0.7854445), 'word': '##hn', 'start': 166, 'end': 168}, {'entity_group': 'Coreference', 'score': np.float32(0.8072966), 'word': '##hn', 'start': 509, 'end': 511}, {'entity_group': 'Coreference', 'score': np.float32(0.5084899), 'word': 'lp', 'start': 677, 'end': 679}, {'entity_group': 'Coreference', 'score': np.float32(0.9569361), 'word': '##hn', 'start': 679, 'end': 681}, {'entity_group': 'Disease_disorder', 'score': np.float32(0.4755341), 'word': 'lp', 'start': 735, 'end': 737}, {'entity_group': 'Coreference', 'score': np.float32(0.9053063), 'word': '##hn', 'start': 737, 'end': 739}, {'entity_group': 'Coreference', 'score': np.float32(0.9638978), 'word': '##hn', 'start': 838, 'end': 840}]\n",
      " - lipid - polymer hybrid nano (Detailed_description): 0.896\n",
      " - ##le (Detailed_description): 0.585\n",
      " - lipid - polymer hybrid nano (Detailed_description): 0.876\n",
      " - ##ticles (Detailed_description): 0.902\n",
      " - lp (Detailed_description): 0.621\n",
      " - ##hn (Coreference): 0.785\n",
      " - ##hn (Coreference): 0.807\n",
      " - lp (Coreference): 0.508\n",
      " - ##hn (Coreference): 0.957\n",
      " - lp (Disease_disorder): 0.476\n",
      " - ##hn (Coreference): 0.905\n",
      " - ##hn (Coreference): 0.964\n",
      "\n",
      "--- PMID: 19243676 ---\n",
      "[{'entity_group': 'Lab_value', 'score': np.float32(0.5938182), 'word': 'variations', 'start': 0, 'end': 10}, {'entity_group': 'Diagnostic_procedure', 'score': np.float32(0.7156637), 'word': 'fresh fruit', 'start': 14, 'end': 25}, {'entity_group': 'Diagnostic_procedure', 'score': np.float32(0.9940151), 'word': 'vegetable quality', 'start': 30, 'end': 47}, {'entity_group': 'Detailed_description', 'score': np.float32(0.99473923), 'word': 'urban', 'start': 63, 'end': 68}, {'entity_group': 'Detailed_description', 'score': np.float32(0.9213331), 'word': 'rural', 'start': 69, 'end': 74}, {'entity_group': 'Detailed_description', 'score': np.float32(0.7998984), 'word': 'neighbourhood', 'start': 87, 'end': 100}, {'entity_group': 'Diagnostic_procedure', 'score': np.float32(0.2138429), 'word': 'fresh', 'start': 165, 'end': 170}, {'entity_group': 'Activity', 'score': np.float32(0.25969195), 'word': 'fruit', 'start': 171, 'end': 176}, {'entity_group': 'Activity', 'score': np.float32(0.21807772), 'word': 'vegetables', 'start': 181, 'end': 191}, {'entity_group': 'Lab_value', 'score': np.float32(0.46351555), 'word': 'in', 'start': 211, 'end': 213}, {'entity_group': 'Diagnostic_procedure', 'score': np.float32(0.8602975), 'word': 'investigations', 'start': 233, 'end': 247}, {'entity_group': 'Diagnostic_procedure', 'score': np.float32(0.8705899), 'word': 'quality', 'start': 380, 'end': 387}, {'entity_group': 'Diagnostic_procedure', 'score': np.float32(0.9982836), 'word': 'produce quality', 'start': 437, 'end': 452}, {'entity_group': 'Detailed_description', 'score': np.float32(0.5984736), 'word': 'store', 'start': 483, 'end': 488}, {'entity_group': 'Detailed_description', 'score': np.float32(0.91371536), 'word': 'rural', 'start': 495, 'end': 500}, {'entity_group': 'Detailed_description', 'score': np.float32(0.95208764), 'word': 'urban', 'start': 501, 'end': 506}, {'entity_group': 'Detailed_description', 'score': np.float32(0.97715706), 'word': 'neighbourhood', 'start': 520, 'end': 533}]\n",
      " - variations (Lab_value): 0.594\n",
      " - fresh fruit (Diagnostic_procedure): 0.716\n",
      " - vegetable quality (Diagnostic_procedure): 0.994\n",
      " - urban (Detailed_description): 0.995\n",
      " - rural (Detailed_description): 0.921\n",
      " - neighbourhood (Detailed_description): 0.800\n",
      " - fresh (Diagnostic_procedure): 0.214\n",
      " - fruit (Activity): 0.260\n",
      " - vegetables (Activity): 0.218\n",
      " - in (Lab_value): 0.464\n",
      " - investigations (Diagnostic_procedure): 0.860\n",
      " - quality (Diagnostic_procedure): 0.871\n",
      " - produce quality (Diagnostic_procedure): 0.998\n",
      " - store (Detailed_description): 0.598\n",
      " - rural (Detailed_description): 0.914\n",
      " - urban (Detailed_description): 0.952\n",
      " - neighbourhood (Detailed_description): 0.977\n",
      "\n",
      "--- PMID: 10793294 ---\n",
      "[{'entity_group': 'Biological_structure', 'score': np.float32(0.9648786), 'word': 'tracheal epithelium', 'start': 24, 'end': 43}, {'entity_group': 'Biological_structure', 'score': np.float32(0.83056164), 'word': 'tracheal', 'start': 109, 'end': 117}, {'entity_group': 'Diagnostic_procedure', 'score': np.float32(0.9390453), 'word': 'rte', 'start': 130, 'end': 133}, {'entity_group': 'Diagnostic_procedure', 'score': np.float32(0.85035264), 'word': 'primary culture', 'start': 144, 'end': 159}, {'entity_group': 'Biological_structure', 'score': np.float32(0.9999435), 'word': 'air', 'start': 218, 'end': 221}, {'entity_group': 'Diagnostic_procedure', 'score': np.float32(0.99667907), 'word': 'reactive oxygen species (', 'start': 278, 'end': 303}, {'entity_group': 'Diagnostic_procedure', 'score': np.float32(0.99747527), 'word': 'ros', 'start': 303, 'end': 306}, {'entity_group': 'Diagnostic_procedure', 'score': np.float32(0.8847896), 'word': 'systems', 'start': 319, 'end': 326}, {'entity_group': 'Diagnostic_procedure', 'score': np.float32(0.86027664), 'word': 'h', 'start': 338, 'end': 339}, {'entity_group': 'Diagnostic_procedure', 'score': np.float32(0.9784158), 'word': 'fe', 'start': 376, 'end': 378}, {'entity_group': 'Diagnostic_procedure', 'score': np.float32(0.93465656), 'word': 'rte', 'start': 416, 'end': 419}, {'entity_group': 'Sign_symptom', 'score': np.float32(0.8491913), 'word': 'lip', 'start': 436, 'end': 439}, {'entity_group': 'Sign_symptom', 'score': np.float32(0.9979731), 'word': '##id peroxida', 'start': 439, 'end': 450}, {'entity_group': 'Diagnostic_procedure', 'score': np.float32(0.9853658), 'word': 'catalase ( cat )', 'start': 500, 'end': 514}, {'entity_group': 'Lab_value', 'score': np.float32(0.99991536), 'word': 'decreased', 'start': 524, 'end': 533}, {'entity_group': 'Time', 'score': np.float32(0.6756714), 'word': '1', 'start': 542, 'end': 543}, {'entity_group': 'Time', 'score': np.float32(0.79714304), 'word': 'hour', 'start': 544, 'end': 548}, {'entity_group': 'Therapeutic_procedure', 'score': np.float32(0.8076642), 'word': 'treatment', 'start': 549, 'end': 558}, {'entity_group': 'Detailed_description', 'score': np.float32(0.8567885), 'word': '3 -', 'start': 562, 'end': 564}, {'entity_group': 'Time', 'score': np.float32(0.6235899), 'word': 'day', 'start': 564, 'end': 567}, {'entity_group': 'Detailed_description', 'score': np.float32(0.93020767), 'word': '- old', 'start': 567, 'end': 571}, {'entity_group': 'Diagnostic_procedure', 'score': np.float32(0.9954574), 'word': 'cultures', 'start': 572, 'end': 580}, {'entity_group': 'Lab_value', 'score': np.float32(0.9999132), 'word': 'increased', 'start': 585, 'end': 594}, {'entity_group': 'Detailed_description', 'score': np.float32(0.8646477), 'word': '7 - day - old', 'start': 598, 'end': 607}, {'entity_group': 'Diagnostic_procedure', 'score': np.float32(0.99824023), 'word': 'cultures', 'start': 608, 'end': 616}, {'entity_group': 'Lab_value', 'score': np.float32(0.99985373), 'word': 'higher', 'start': 628, 'end': 634}, {'entity_group': 'Diagnostic_procedure', 'score': np.float32(0.99435776), 'word': 'anti', 'start': 635, 'end': 639}, {'entity_group': 'Diagnostic_procedure', 'score': np.float32(0.99715316), 'word': 'superoxide dismutase (', 'start': 666, 'end': 688}, {'entity_group': 'Diagnostic_procedure', 'score': np.float32(0.93295115), 'word': 'sod )', 'start': 688, 'end': 692}, {'entity_group': 'Diagnostic_procedure', 'score': np.float32(0.8864333), 'word': 'rte', 'start': 735, 'end': 738}, {'entity_group': 'Sign_symptom', 'score': np.float32(0.99939406), 'word': 'repair', 'start': 757, 'end': 763}, {'entity_group': 'Detailed_description', 'score': np.float32(0.9670698), 'word': 'sq', 'start': 784, 'end': 786}, {'entity_group': 'Detailed_description', 'score': np.float32(0.95222735), 'word': '##mous', 'start': 788, 'end': 792}, {'entity_group': 'Lab_value', 'score': np.float32(0.9215512), 'word': 'increase', 'start': 862, 'end': 870}, {'entity_group': 'Diagnostic_procedure', 'score': np.float32(0.8041894), 'word': 'steady', 'start': 878, 'end': 884}, {'entity_group': 'Diagnostic_procedure', 'score': np.float32(0.79064393), 'word': 'state', 'start': 885, 'end': 890}, {'entity_group': 'Diagnostic_procedure', 'score': np.float32(0.95769393), 'word': 'c - myc', 'start': 900, 'end': 905}, {'entity_group': 'Diagnostic_procedure', 'score': np.float32(0.998077), 'word': 'c - jun', 'start': 917, 'end': 922}, {'entity_group': 'Diagnostic_procedure', 'score': np.float32(0.9910451), 'word': 'c - fos', 'start': 927, 'end': 932}, {'entity_group': 'Detailed_description', 'score': np.float32(0.9524793), 'word': 'chronic', 'start': 965, 'end': 972}, {'entity_group': 'Diagnostic_procedure', 'score': np.float32(0.99972314), 'word': 'cytokeratin 13', 'start': 1070, 'end': 1084}, {'entity_group': 'Diagnostic_procedure', 'score': np.float32(0.9933106), 'word': 'rte', 'start': 1135, 'end': 1138}, {'entity_group': 'Diagnostic_procedure', 'score': np.float32(0.9869014), 'word': 'primary culture', 'start': 1148, 'end': 1163}, {'entity_group': 'Lab_value', 'score': np.float32(0.99799925), 'word': 'increase', 'start': 1212, 'end': 1220}, {'entity_group': 'Diagnostic_procedure', 'score': np.float32(0.99973375), 'word': 'c', 'start': 1224, 'end': 1225}, {'entity_group': 'Diagnostic_procedure', 'score': np.float32(0.99883425), 'word': 'myc', 'start': 1226, 'end': 1229}, {'entity_group': 'Lab_value', 'score': np.float32(0.96104145), 'word': 'modifications', 'start': 1248, 'end': 1261}, {'entity_group': 'Diagnostic_procedure', 'score': np.float32(0.9997607), 'word': 'cat', 'start': 1265, 'end': 1268}, {'entity_group': 'Sign_symptom', 'score': np.float32(0.7425351), 'word': 'lipid peroxidation', 'start': 1290, 'end': 1308}, {'entity_group': 'Biological_structure', 'score': np.float32(0.9999049), 'word': 'tr', 'start': 1324, 'end': 1326}, {'entity_group': 'Biological_structure', 'score': np.float32(0.8902062), 'word': '##ache', 'start': 1326, 'end': 1330}, {'entity_group': 'Biological_structure', 'score': np.float32(0.94729203), 'word': '##al', 'start': 1330, 'end': 1332}]\n",
      " - tracheal epithelium (Biological_structure): 0.965\n",
      " - tracheal (Biological_structure): 0.831\n",
      " - rte (Diagnostic_procedure): 0.939\n",
      " - primary culture (Diagnostic_procedure): 0.850\n",
      " - air (Biological_structure): 1.000\n",
      " - reactive oxygen species ( (Diagnostic_procedure): 0.997\n",
      " - ros (Diagnostic_procedure): 0.997\n",
      " - systems (Diagnostic_procedure): 0.885\n",
      " - h (Diagnostic_procedure): 0.860\n",
      " - fe (Diagnostic_procedure): 0.978\n",
      " - rte (Diagnostic_procedure): 0.935\n",
      " - lip (Sign_symptom): 0.849\n",
      " - ##id peroxida (Sign_symptom): 0.998\n",
      " - catalase ( cat ) (Diagnostic_procedure): 0.985\n",
      " - decreased (Lab_value): 1.000\n",
      " - 1 (Time): 0.676\n",
      " - hour (Time): 0.797\n",
      " - treatment (Therapeutic_procedure): 0.808\n",
      " - 3 - (Detailed_description): 0.857\n",
      " - day (Time): 0.624\n",
      " - - old (Detailed_description): 0.930\n",
      " - cultures (Diagnostic_procedure): 0.995\n",
      " - increased (Lab_value): 1.000\n",
      " - 7 - day - old (Detailed_description): 0.865\n",
      " - cultures (Diagnostic_procedure): 0.998\n",
      " - higher (Lab_value): 1.000\n",
      " - anti (Diagnostic_procedure): 0.994\n",
      " - superoxide dismutase ( (Diagnostic_procedure): 0.997\n",
      " - sod ) (Diagnostic_procedure): 0.933\n",
      " - rte (Diagnostic_procedure): 0.886\n",
      " - repair (Sign_symptom): 0.999\n",
      " - sq (Detailed_description): 0.967\n",
      " - ##mous (Detailed_description): 0.952\n",
      " - increase (Lab_value): 0.922\n",
      " - steady (Diagnostic_procedure): 0.804\n",
      " - state (Diagnostic_procedure): 0.791\n",
      " - c - myc (Diagnostic_procedure): 0.958\n",
      " - c - jun (Diagnostic_procedure): 0.998\n",
      " - c - fos (Diagnostic_procedure): 0.991\n",
      " - chronic (Detailed_description): 0.952\n",
      " - cytokeratin 13 (Diagnostic_procedure): 1.000\n",
      " - rte (Diagnostic_procedure): 0.993\n",
      " - primary culture (Diagnostic_procedure): 0.987\n",
      " - increase (Lab_value): 0.998\n",
      " - c (Diagnostic_procedure): 1.000\n",
      " - myc (Diagnostic_procedure): 0.999\n",
      " - modifications (Lab_value): 0.961\n",
      " - cat (Diagnostic_procedure): 1.000\n",
      " - lipid peroxidation (Sign_symptom): 0.743\n",
      " - tr (Biological_structure): 1.000\n",
      " - ##ache (Biological_structure): 0.890\n",
      " - ##al (Biological_structure): 0.947\n",
      "\n",
      "--- PMID: 24463521 ---\n",
      "[{'entity_group': 'Detailed_description', 'score': np.float32(0.97188956), 'word': 'within', 'start': 0, 'end': 6}, {'entity_group': 'Detailed_description', 'score': np.float32(0.8125488), 'word': 'group', 'start': 7, 'end': 12}, {'entity_group': 'Detailed_description', 'score': np.float32(0.29412204), 'word': '##phila', 'start': 472, 'end': 477}, {'entity_group': 'Disease_disorder', 'score': np.float32(0.29333976), 'word': 'mel', 'start': 478, 'end': 481}, {'entity_group': 'Coreference', 'score': np.float32(0.6201039), 'word': '##anogas', 'start': 481, 'end': 487}, {'entity_group': 'Subject', 'score': np.float32(0.33448005), 'word': 'females', 'start': 506, 'end': 513}, {'entity_group': 'Detailed_description', 'score': np.float32(0.6998245), 'word': 'within', 'start': 548, 'end': 554}, {'entity_group': 'Coreference', 'score': np.float32(0.23852754), 'word': 'groups', 'start': 635, 'end': 641}, {'entity_group': 'Detailed_description', 'score': np.float32(0.53372425), 'word': 'of three brothers', 'start': 642, 'end': 659}, {'entity_group': 'Coreference', 'score': np.float32(0.34577614), 'word': 'the', 'start': 673, 'end': 676}, {'entity_group': 'Detailed_description', 'score': np.float32(0.3651225), 'word': 'female', 'start': 677, 'end': 683}, {'entity_group': 'Diagnostic_procedure', 'score': np.float32(0.8521584), 'word': 'reproductive success', 'start': 704, 'end': 724}, {'entity_group': 'Diagnostic_procedure', 'score': np.float32(0.7281352), 'word': 'reproductive age', 'start': 736, 'end': 752}, {'entity_group': 'Detailed_description', 'score': np.float32(0.78081596), 'word': 'groups', 'start': 787, 'end': 793}, {'entity_group': 'Detailed_description', 'score': np.float32(0.81881344), 'word': 'three', 'start': 797, 'end': 802}, {'entity_group': 'Family_history', 'score': np.float32(0.6853611), 'word': 'triplets', 'start': 834, 'end': 842}, {'entity_group': 'Subject', 'score': np.float32(0.39865428), 'word': 'brothers', 'start': 846, 'end': 854}, {'entity_group': 'Subject', 'score': np.float32(0.42510337), 'word': 'brothers', 'start': 1083, 'end': 1091}, {'entity_group': 'Subject', 'score': np.float32(0.46091875), 'word': 'unrelated', 'start': 1133, 'end': 1142}, {'entity_group': 'Detailed_description', 'score': np.float32(0.8410185), 'word': 'adjust', 'start': 1353, 'end': 1359}, {'entity_group': 'Diagnostic_procedure', 'score': np.float32(0.76106685), 'word': 'sexual', 'start': 1360, 'end': 1366}]\n",
      " - within (Detailed_description): 0.972\n",
      " - group (Detailed_description): 0.813\n",
      " - ##phila (Detailed_description): 0.294\n",
      " - mel (Disease_disorder): 0.293\n",
      " - ##anogas (Coreference): 0.620\n",
      " - females (Subject): 0.334\n",
      " - within (Detailed_description): 0.700\n",
      " - groups (Coreference): 0.239\n",
      " - of three brothers (Detailed_description): 0.534\n",
      " - the (Coreference): 0.346\n",
      " - female (Detailed_description): 0.365\n",
      " - reproductive success (Diagnostic_procedure): 0.852\n",
      " - reproductive age (Diagnostic_procedure): 0.728\n",
      " - groups (Detailed_description): 0.781\n",
      " - three (Detailed_description): 0.819\n",
      " - triplets (Family_history): 0.685\n",
      " - brothers (Subject): 0.399\n",
      " - brothers (Subject): 0.425\n",
      " - unrelated (Subject): 0.461\n",
      " - adjust (Detailed_description): 0.841\n",
      " - sexual (Diagnostic_procedure): 0.761\n",
      "\n",
      "--- PMID: 25984610 ---\n",
      "[{'entity_group': 'Disease_disorder', 'score': np.float32(0.973508), 'word': 'alexithymia', 'start': 13, 'end': 24}, {'entity_group': 'Disease_disorder', 'score': np.float32(0.98630095), 'word': 'alexith', 'start': 66, 'end': 73}, {'entity_group': 'Disease_disorder', 'score': np.float32(0.6907321), 'word': '##ymia', 'start': 73, 'end': 77}, {'entity_group': 'Sign_symptom', 'score': np.float32(0.8335782), 'word': 'mental representations of emotions', 'start': 93, 'end': 127}, {'entity_group': 'Sign_symptom', 'score': np.float32(0.5219459), 'word': 'ability to', 'start': 147, 'end': 157}, {'entity_group': 'Detailed_description', 'score': np.float32(0.58019316), 'word': 'understand and', 'start': 158, 'end': 172}, {'entity_group': 'Sign_symptom', 'score': np.float32(0.3441102), 'word': 'regulate', 'start': 173, 'end': 181}, {'entity_group': 'Disease_disorder', 'score': np.float32(0.9646485), 'word': 'alexithymia', 'start': 314, 'end': 325}, {'entity_group': 'Disease_disorder', 'score': np.float32(0.9947749), 'word': 'psoriasis', 'start': 384, 'end': 393}, {'entity_group': 'Disease_disorder', 'score': np.float32(0.790606), 'word': 'alexiti', 'start': 422, 'end': 429}, {'entity_group': 'Disease_disorder', 'score': np.float32(0.94825006), 'word': 'psoriasis', 'start': 433, 'end': 442}]\n",
      " - alexithymia (Disease_disorder): 0.974\n",
      " - alexith (Disease_disorder): 0.986\n",
      " - ##ymia (Disease_disorder): 0.691\n",
      " - mental representations of emotions (Sign_symptom): 0.834\n",
      " - ability to (Sign_symptom): 0.522\n",
      " - understand and (Detailed_description): 0.580\n",
      " - regulate (Sign_symptom): 0.344\n",
      " - alexithymia (Disease_disorder): 0.965\n",
      " - psoriasis (Disease_disorder): 0.995\n",
      " - alexiti (Disease_disorder): 0.791\n",
      " - psoriasis (Disease_disorder): 0.948\n",
      "\n",
      "--- PMID: arxiv1  Self-supervised deep learning of gene-gene interactions for improved gene expression recovery   Single-cell RNA sequencing (scRNA-seq) has emerged as a powerful tool to gain biological insights at the cellular level. However, due to technical limitations of the existing sequencing technologies, low gene expression values are often omitted, leading to inaccurate gene counts. The available methods, including state-of-the-art deep learning techniques, are incapable of imputing the gene expressions reliably because of the lack of a mechanism to explicitly consider the underlying biological knowledge of the system. Here we tackle the problem in two steps to exploit the gene-gene interactions of the system: (i) we reposition the genes in such a way that their spatial configuration reflects their interactive relationships; and (ii) we use a self-supervised 2D convolutional neural network to extract the contextual features of the interactions from the spatially configured genes and impute the omitted values. Extensive experiments with both simulated and experimental scRNA-seq datasets are carried out to demonstrate the superior performance of the proposed strategy against the existing imputation methods. ---\n",
      "[{'entity_group': 'Detailed_description', 'score': np.float32(0.47460508), 'word': 'nan nan', 'start': 0, 'end': 7}]\n",
      " - nan nan (Detailed_description): 0.475\n"
     ]
    }
   ],
   "source": [
    "for idx, row in pubmed_df.iterrows():\n",
    "    pmid = row[\"PMID\"]\n",
    "    text = f\"{row['Title']} {row['Abstract']}\"\n",
    "    \n",
    "    print(f\"\\n--- PMID: {pmid} ---\")\n",
    "\n",
    "    try:\n",
    "        entities = ner_pipeline(text)\n",
    "        print(entities)\n",
    "        for ent in entities:\n",
    "            print(f\" - {ent['word']} ({ent['entity_group']}): {ent['score']:.3f}\")\n",
    "    except Exception as e:\n",
    "        print(f\"Error processing PMID {pmid}: {e}\")\n"
   ]
  },
  {
   "cell_type": "code",
   "execution_count": 34,
   "id": "3cbd3a82",
   "metadata": {},
   "outputs": [
    {
     "name": "stderr",
     "output_type": "stream",
     "text": [
      "You seem to be using the pipelines sequentially on GPU. In order to maximize efficiency please use a dataset\n"
     ]
    },
    {
     "name": "stdout",
     "output_type": "stream",
     "text": [
      "\n",
      "--- PMID: 1 ---\n",
      "[]\n",
      "\n",
      "--- PMID: 2 ---\n",
      "[{'entity_group': 'Disease', 'score': np.float32(0.9378797), 'word': 'or', 'start': 65, 'end': 67}, {'entity_group': 'Disease', 'score': np.float32(0.9494301), 'word': '##th', 'start': 67, 'end': 69}, {'entity_group': 'Disease', 'score': np.float32(0.9672202), 'word': '##op', 'start': 69, 'end': 71}, {'entity_group': 'Disease', 'score': np.float32(0.96502066), 'word': '##ae', 'start': 71, 'end': 73}, {'entity_group': 'Disease', 'score': np.float32(0.812373), 'word': '##dic device infection', 'start': 73, 'end': 93}, {'entity_group': 'Disease', 'score': np.float32(0.98867023), 'word': 'Pro', 'start': 95, 'end': 98}, {'entity_group': 'Disease', 'score': np.float32(0.9901896), 'word': '##st', 'start': 98, 'end': 100}, {'entity_group': 'Disease', 'score': np.float32(0.9863632), 'word': '##hetic joint infections', 'start': 100, 'end': 122}, {'entity_group': 'Disease', 'score': np.float32(0.9716655), 'word': 'pro', 'start': 624, 'end': 627}, {'entity_group': 'Disease', 'score': np.float32(0.98082167), 'word': '##st', 'start': 627, 'end': 629}, {'entity_group': 'Disease', 'score': np.float32(0.97423244), 'word': '##hetic joint infections', 'start': 629, 'end': 651}, {'entity_group': 'Disease', 'score': np.float32(0.64937025), 'word': 'or', 'start': 717, 'end': 719}, {'entity_group': 'Disease', 'score': np.float32(0.58642656), 'word': '##th', 'start': 719, 'end': 721}, {'entity_group': 'Disease', 'score': np.float32(0.6809378), 'word': '##op', 'start': 721, 'end': 723}, {'entity_group': 'Disease', 'score': np.float32(0.4777696), 'word': '##ae', 'start': 723, 'end': 725}, {'entity_group': 'Disease', 'score': np.float32(0.9704277), 'word': 'pro', 'start': 1533, 'end': 1536}, {'entity_group': 'Disease', 'score': np.float32(0.9781246), 'word': '##st', 'start': 1536, 'end': 1538}, {'entity_group': 'Disease', 'score': np.float32(0.97208285), 'word': '##hetic joint infections', 'start': 1538, 'end': 1560}]\n",
      " - or (Disease): 0.938\n",
      " - ##th (Disease): 0.949\n",
      " - ##op (Disease): 0.967\n",
      " - ##ae (Disease): 0.965\n",
      " - ##dic device infection (Disease): 0.812\n",
      " - Pro (Disease): 0.989\n",
      " - ##st (Disease): 0.990\n",
      " - ##hetic joint infections (Disease): 0.986\n",
      " - pro (Disease): 0.972\n",
      " - ##st (Disease): 0.981\n",
      " - ##hetic joint infections (Disease): 0.974\n",
      " - or (Disease): 0.649\n",
      " - ##th (Disease): 0.586\n",
      " - ##op (Disease): 0.681\n",
      " - ##ae (Disease): 0.478\n",
      " - pro (Disease): 0.970\n",
      " - ##st (Disease): 0.978\n",
      " - ##hetic joint infections (Disease): 0.972\n",
      "\n",
      "--- PMID: 3 ---\n",
      "[]\n",
      "\n",
      "--- PMID: 4 ---\n",
      "[]\n",
      "\n",
      "--- PMID: 5 ---\n",
      "[]\n"
     ]
    }
   ],
   "source": [
    "for idx, row in biorxiv_df.iterrows():\n",
    "    pmid = row[\"PMID\"]\n",
    "    text = f\"{row['Title']} {row['Abstract']}\"\n",
    "    \n",
    "    print(f\"\\n--- PMID: {pmid} ---\")\n",
    "\n",
    "    try:\n",
    "        entities = ner_pipeline(text)\n",
    "        print(entities)\n",
    "        for ent in entities:\n",
    "            print(f\" - {ent['word']} ({ent['entity_group']}): {ent['score']:.3f}\")\n",
    "    except Exception as e:\n",
    "        print(f\"Error processing PMID {pmid}: {e}\")"
   ]
  },
  {
   "cell_type": "markdown",
   "id": "83f40098",
   "metadata": {},
   "source": [
    "### Model 2: siddharthtumre/biobert-finetuned-ner\n",
    "\n",
    "- Built on top of *dmis-lab/biobert-base-cased-v1.2*\n",
    "- Trained on JNLPBA dataset \n"
   ]
  },
  {
   "cell_type": "code",
   "execution_count": 36,
   "id": "43de25c0",
   "metadata": {},
   "outputs": [
    {
     "name": "stderr",
     "output_type": "stream",
     "text": [
      "Device set to use cuda:0\n"
     ]
    }
   ],
   "source": [
    "MODEL_NAME = \"siddharthtumre/biobert-finetuned-ner\" \n",
    "tokenizer = AutoTokenizer.from_pretrained(MODEL_NAME)\n",
    "model = AutoModelForTokenClassification.from_pretrained(MODEL_NAME)\n",
    "\n",
    "\n",
    "ner_pipeline = pipeline(\"ner\", model=model, tokenizer=tokenizer, aggregation_strategy=\"simple\")"
   ]
  },
  {
   "cell_type": "code",
   "execution_count": 37,
   "id": "f3658e92",
   "metadata": {},
   "outputs": [
    {
     "name": "stdout",
     "output_type": "stream",
     "text": [
      "{0: 'O', 1: 'B-DNA', 10: 'I-protein', 2: 'I-DNA', 3: 'B-RNA', 4: 'I-RNA', 5: 'B-cell_line', 6: 'I-cell_line', 7: 'B-cell_type', 8: 'I-cell_type', 9: 'B-protein'}\n"
     ]
    }
   ],
   "source": [
    "print(model.config.id2label)"
   ]
  },
  {
   "cell_type": "code",
   "execution_count": 38,
   "id": "8af0aa1d",
   "metadata": {},
   "outputs": [
    {
     "name": "stderr",
     "output_type": "stream",
     "text": [
      "Asking to truncate to max_length but no maximum length is provided and the model has no predefined maximum length. Default to no truncation.\n"
     ]
    },
    {
     "name": "stdout",
     "output_type": "stream",
     "text": [
      "\n",
      "--- PMID: 28600191 ---\n",
      " - lphnp (protein): 0.985\n",
      "\n",
      "--- PMID: 19243676 ---\n",
      "\n",
      "--- PMID: 10793294 ---\n",
      " - rabbit tracheal epithelial ( rte ) cells (cell_line): 0.996\n",
      " - airway epithelial cells (cell_type): 0.998\n",
      " - rte cells (cell_line): 0.979\n",
      " - catalase (protein): 0.994\n",
      " - cat (protein): 0.993\n",
      " - antioxidant enzyme (protein): 0.859\n",
      " - superoxide dismutase (protein): 0.996\n",
      " - sod (protein): 0.990\n",
      " - rte cells (cell_line): 0.992\n",
      " - c - myc mrna (RNA): 0.996\n",
      " - c - jun (DNA): 0.707\n",
      " - c - (DNA): 0.700\n",
      " - cytokeratin 13 (protein): 0.999\n",
      " - rte cells (cell_line): 0.976\n",
      " - c - myc (DNA): 0.998\n",
      " - cat (protein): 0.997\n",
      "\n",
      "--- PMID: 24463521 ---\n",
      "\n",
      "--- PMID: 25984610 ---\n",
      "\n",
      "--- PMID: arxiv1  Self-supervised deep learning of gene-gene interactions for improved gene expression recovery   Single-cell RNA sequencing (scRNA-seq) has emerged as a powerful tool to gain biological insights at the cellular level. However, due to technical limitations of the existing sequencing technologies, low gene expression values are often omitted, leading to inaccurate gene counts. The available methods, including state-of-the-art deep learning techniques, are incapable of imputing the gene expressions reliably because of the lack of a mechanism to explicitly consider the underlying biological knowledge of the system. Here we tackle the problem in two steps to exploit the gene-gene interactions of the system: (i) we reposition the genes in such a way that their spatial configuration reflects their interactive relationships; and (ii) we use a self-supervised 2D convolutional neural network to extract the contextual features of the interactions from the spatially configured genes and impute the omitted values. Extensive experiments with both simulated and experimental scRNA-seq datasets are carried out to demonstrate the superior performance of the proposed strategy against the existing imputation methods. ---\n"
     ]
    }
   ],
   "source": [
    "for idx, row in pubmed_df.iterrows():\n",
    "    pmid = row[\"PMID\"]\n",
    "    text = f\"{row['Title']} {row['Abstract']}\"\n",
    "    \n",
    "    print(f\"\\n--- PMID: {pmid} ---\")\n",
    "\n",
    "    try:\n",
    "        entities = ner_pipeline(text)\n",
    "        for ent in entities:\n",
    "            print(f\" - {ent['word']} ({ent['entity_group']}): {ent['score']:.3f}\")\n",
    "    except Exception as e:\n",
    "        print(f\"Error processing PMID {pmid}: {e}\")"
   ]
  },
  {
   "cell_type": "code",
   "execution_count": 39,
   "id": "5c02c62b",
   "metadata": {},
   "outputs": [
    {
     "name": "stdout",
     "output_type": "stream",
     "text": [
      "\n",
      "--- PMID: 1 ---\n",
      "[{'entity_group': 'protein', 'score': np.float32(0.57718456), 'word': '##racter', 'start': 1563, 'end': 1569}]\n",
      " - ##racter (protein): 0.577\n",
      "\n",
      "--- PMID: 2 ---\n",
      "[{'entity_group': 'DNA', 'score': np.float32(0.8006522), 'word': 'minion', 'start': 1630, 'end': 1636}, {'entity_group': 'DNA', 'score': np.float32(0.69167835), 'word': 'human dna', 'start': 1675, 'end': 1684}]\n",
      " - minion (DNA): 0.801\n",
      " - human dna (DNA): 0.692\n",
      "\n",
      "--- PMID: 3 ---\n",
      "[{'entity_group': 'DNA', 'score': np.float32(0.6796471), 'word': '##phid', 'start': 36, 'end': 40}, {'entity_group': 'DNA', 'score': np.float32(0.9549623), 'word': 'short read reference genome', 'start': 697, 'end': 724}, {'entity_group': 'DNA', 'score': np.float32(0.9568055), 'word': 'pea aphid reference genome', 'start': 751, 'end': 777}, {'entity_group': 'DNA', 'score': np.float32(0.994645), 'word': 'pea aphid genomes', 'start': 804, 'end': 821}, {'entity_group': 'DNA', 'score': np.float32(0.9460317), 'word': 'rnaseq', 'start': 965, 'end': 971}, {'entity_group': 'DNA', 'score': np.float32(0.7992017), 'word': 'promoters', 'start': 1333, 'end': 1342}]\n",
      " - ##phid (DNA): 0.680\n",
      " - short read reference genome (DNA): 0.955\n",
      " - pea aphid reference genome (DNA): 0.957\n",
      " - pea aphid genomes (DNA): 0.995\n",
      " - rnaseq (DNA): 0.946\n",
      " - promoters (DNA): 0.799\n",
      "\n",
      "--- PMID: 4 ---\n",
      "[]\n",
      "\n",
      "--- PMID: 5 ---\n",
      "[{'entity_group': 'DNA', 'score': np.float32(0.7243034), 'word': 'structured protein domains', 'start': 1137, 'end': 1163}, {'entity_group': 'DNA', 'score': np.float32(0.96541864), 'word': 'intrinsically disordered regions', 'start': 1176, 'end': 1208}, {'entity_group': 'DNA', 'score': np.float32(0.98064804), 'word': 'idrs', 'start': 1210, 'end': 1214}]\n",
      " - structured protein domains (DNA): 0.724\n",
      " - intrinsically disordered regions (DNA): 0.965\n",
      " - idrs (DNA): 0.981\n"
     ]
    }
   ],
   "source": [
    "for idx, row in biorxiv_df.iterrows():\n",
    "    pmid = row[\"PMID\"]\n",
    "    text = f\"{row['Title']} {row['Abstract']}\"\n",
    "    \n",
    "    print(f\"\\n--- PMID: {pmid} ---\")\n",
    "\n",
    "    try:\n",
    "        entities = ner_pipeline(text)\n",
    "        print(entities)\n",
    "        for ent in entities:\n",
    "            print(f\" - {ent['word']} ({ent['entity_group']}): {ent['score']:.3f}\")\n",
    "    except Exception as e:\n",
    "        print(f\"Error processing PMID {pmid}: {e}\")"
   ]
  },
  {
   "cell_type": "markdown",
   "id": "386a4b10",
   "metadata": {},
   "source": [
    "### Model 3: fidukm34/biobert_v1.1_pubmed-finetuned-ner\n",
    "\n",
    "- Built on *monologg/biobert_v1.1_pubmed*\n",
    "- Trained on NCBI Disease dataset\n"
   ]
  },
  {
   "cell_type": "code",
   "execution_count": 44,
   "id": "a9ae3785",
   "metadata": {},
   "outputs": [
    {
     "name": "stderr",
     "output_type": "stream",
     "text": [
      "Device set to use cuda:0\n"
     ]
    }
   ],
   "source": [
    "MODEL_NAME = \"fidukm34/biobert_v1.1_pubmed-finetuned-ner\" \n",
    "tokenizer = AutoTokenizer.from_pretrained(MODEL_NAME)\n",
    "model = AutoModelForTokenClassification.from_pretrained(MODEL_NAME)\n",
    "\n",
    "\n",
    "ner_pipeline = pipeline(\"ner\", model=model, tokenizer=tokenizer, aggregation_strategy=\"simple\")"
   ]
  },
  {
   "cell_type": "code",
   "execution_count": 41,
   "id": "9ec620e7",
   "metadata": {},
   "outputs": [
    {
     "name": "stdout",
     "output_type": "stream",
     "text": [
      "{0: 'O', 1: 'B-Disease', 2: 'I-Disease'}\n"
     ]
    }
   ],
   "source": [
    "print(model.config.id2label)"
   ]
  },
  {
   "cell_type": "code",
   "execution_count": 47,
   "id": "ce25633c",
   "metadata": {},
   "outputs": [
    {
     "name": "stdout",
     "output_type": "stream",
     "text": [
      "\n",
      "--- PMID: 28600191 ---\n",
      "[]\n",
      "\n",
      "--- PMID: 19243676 ---\n",
      "[]\n",
      "\n",
      "--- PMID: 10793294 ---\n",
      "[{'entity_group': 'Disease', 'score': np.float32(0.9983646), 'word': 'sq', 'start': 784, 'end': 786}, {'entity_group': 'Disease', 'score': np.float32(0.99785185), 'word': '##ua', 'start': 786, 'end': 788}, {'entity_group': 'Disease', 'score': np.float32(0.99221253), 'word': '##mous metaplasia', 'start': 788, 'end': 803}, {'entity_group': 'Disease', 'score': np.float32(0.99773467), 'word': 'sq', 'start': 1355, 'end': 1357}, {'entity_group': 'Disease', 'score': np.float32(0.9971437), 'word': '##ua', 'start': 1357, 'end': 1359}, {'entity_group': 'Disease', 'score': np.float32(0.9921528), 'word': '##mous metaplasia', 'start': 1359, 'end': 1374}]\n",
      " - sq (Disease): 0.998\n",
      " - ##ua (Disease): 0.998\n",
      " - ##mous metaplasia (Disease): 0.992\n",
      " - sq (Disease): 0.998\n",
      " - ##ua (Disease): 0.997\n",
      " - ##mous metaplasia (Disease): 0.992\n",
      "\n",
      "--- PMID: 24463521 ---\n",
      "[]\n",
      "\n",
      "--- PMID: 25984610 ---\n",
      "[{'entity_group': 'Disease', 'score': np.float32(0.9405441), 'word': 'ale', 'start': 13, 'end': 16}, {'entity_group': 'Disease', 'score': np.float32(0.9685712), 'word': '##xi', 'start': 16, 'end': 18}, {'entity_group': 'Disease', 'score': np.float32(0.98307884), 'word': '##thy', 'start': 18, 'end': 21}, {'entity_group': 'Disease', 'score': np.float32(0.9554549), 'word': '##mia', 'start': 21, 'end': 24}, {'entity_group': 'Disease', 'score': np.float32(0.99880564), 'word': 'ps', 'start': 54, 'end': 56}, {'entity_group': 'Disease', 'score': np.float32(0.99822646), 'word': '##oria', 'start': 56, 'end': 60}, {'entity_group': 'Disease', 'score': np.float32(0.9984211), 'word': '##sis', 'start': 60, 'end': 63}, {'entity_group': 'Disease', 'score': np.float32(0.991037), 'word': 'Alex', 'start': 66, 'end': 70}, {'entity_group': 'Disease', 'score': np.float32(0.9954971), 'word': '##ith', 'start': 70, 'end': 73}, {'entity_group': 'Disease', 'score': np.float32(0.99521625), 'word': '##ym', 'start': 73, 'end': 75}, {'entity_group': 'Disease', 'score': np.float32(0.9967541), 'word': '##ia', 'start': 75, 'end': 77}, {'entity_group': 'Disease', 'score': np.float32(0.9923111), 'word': 'ps', 'start': 246, 'end': 248}, {'entity_group': 'Disease', 'score': np.float32(0.9966935), 'word': '##ych', 'start': 248, 'end': 251}, {'entity_group': 'Disease', 'score': np.float32(0.9977602), 'word': '##oso', 'start': 251, 'end': 254}, {'entity_group': 'Disease', 'score': np.float32(0.9885125), 'word': '##matic illness', 'start': 254, 'end': 267}, {'entity_group': 'Disease', 'score': np.float32(0.97733134), 'word': 'ale', 'start': 314, 'end': 317}, {'entity_group': 'Disease', 'score': np.float32(0.98450524), 'word': '##xi', 'start': 317, 'end': 319}, {'entity_group': 'Disease', 'score': np.float32(0.98877406), 'word': '##thy', 'start': 319, 'end': 322}, {'entity_group': 'Disease', 'score': np.float32(0.9767386), 'word': '##mia', 'start': 322, 'end': 325}, {'entity_group': 'Disease', 'score': np.float32(0.9989778), 'word': 'ps', 'start': 384, 'end': 386}, {'entity_group': 'Disease', 'score': np.float32(0.9981755), 'word': '##oria', 'start': 386, 'end': 390}, {'entity_group': 'Disease', 'score': np.float32(0.9981193), 'word': '##sis', 'start': 390, 'end': 393}, {'entity_group': 'Disease', 'score': np.float32(0.9975109), 'word': 'ale', 'start': 422, 'end': 425}, {'entity_group': 'Disease', 'score': np.float32(0.99733657), 'word': '##xi', 'start': 425, 'end': 427}, {'entity_group': 'Disease', 'score': np.float32(0.9980142), 'word': '##ti', 'start': 427, 'end': 429}, {'entity_group': 'Disease', 'score': np.float32(0.99787295), 'word': '##mia', 'start': 429, 'end': 432}, {'entity_group': 'Disease', 'score': np.float32(0.99749184), 'word': 'ps', 'start': 433, 'end': 435}, {'entity_group': 'Disease', 'score': np.float32(0.9894164), 'word': '##oria', 'start': 435, 'end': 439}, {'entity_group': 'Disease', 'score': np.float32(0.9833339), 'word': '##sis', 'start': 439, 'end': 442}]\n",
      " - ale (Disease): 0.941\n",
      " - ##xi (Disease): 0.969\n",
      " - ##thy (Disease): 0.983\n",
      " - ##mia (Disease): 0.955\n",
      " - ps (Disease): 0.999\n",
      " - ##oria (Disease): 0.998\n",
      " - ##sis (Disease): 0.998\n",
      " - Alex (Disease): 0.991\n",
      " - ##ith (Disease): 0.995\n",
      " - ##ym (Disease): 0.995\n",
      " - ##ia (Disease): 0.997\n",
      " - ps (Disease): 0.992\n",
      " - ##ych (Disease): 0.997\n",
      " - ##oso (Disease): 0.998\n",
      " - ##matic illness (Disease): 0.989\n",
      " - ale (Disease): 0.977\n",
      " - ##xi (Disease): 0.985\n",
      " - ##thy (Disease): 0.989\n",
      " - ##mia (Disease): 0.977\n",
      " - ps (Disease): 0.999\n",
      " - ##oria (Disease): 0.998\n",
      " - ##sis (Disease): 0.998\n",
      " - ale (Disease): 0.998\n",
      " - ##xi (Disease): 0.997\n",
      " - ##ti (Disease): 0.998\n",
      " - ##mia (Disease): 0.998\n",
      " - ps (Disease): 0.997\n",
      " - ##oria (Disease): 0.989\n",
      " - ##sis (Disease): 0.983\n",
      "\n",
      "--- PMID: arxiv1  Self-supervised deep learning of gene-gene interactions for improved gene expression recovery   Single-cell RNA sequencing (scRNA-seq) has emerged as a powerful tool to gain biological insights at the cellular level. However, due to technical limitations of the existing sequencing technologies, low gene expression values are often omitted, leading to inaccurate gene counts. The available methods, including state-of-the-art deep learning techniques, are incapable of imputing the gene expressions reliably because of the lack of a mechanism to explicitly consider the underlying biological knowledge of the system. Here we tackle the problem in two steps to exploit the gene-gene interactions of the system: (i) we reposition the genes in such a way that their spatial configuration reflects their interactive relationships; and (ii) we use a self-supervised 2D convolutional neural network to extract the contextual features of the interactions from the spatially configured genes and impute the omitted values. Extensive experiments with both simulated and experimental scRNA-seq datasets are carried out to demonstrate the superior performance of the proposed strategy against the existing imputation methods. ---\n",
      "[]\n"
     ]
    }
   ],
   "source": [
    "for idx, row in pubmed_df.iterrows():\n",
    "    pmid = row[\"PMID\"]\n",
    "    text = f\"{row['Title']} {row['Abstract']}\"\n",
    "    \n",
    "    print(f\"\\n--- PMID: {pmid} ---\")\n",
    "\n",
    "    try:\n",
    "        entities = ner_pipeline(text)\n",
    "        print(entities)\n",
    "        for ent in entities:\n",
    "            print(f\" - {ent['word']} ({ent['entity_group']}): {ent['score']:.3f}\")\n",
    "    except Exception as e:\n",
    "        print(f\"Error processing PMID {pmid}: {e}\")"
   ]
  },
  {
   "cell_type": "code",
   "execution_count": 43,
   "id": "b388b3f0",
   "metadata": {},
   "outputs": [
    {
     "name": "stdout",
     "output_type": "stream",
     "text": [
      "\n",
      "--- PMID: 1 ---\n",
      "[]\n",
      "\n",
      "--- PMID: 2 ---\n",
      "[{'entity_group': 'Disease', 'score': np.float32(0.9378797), 'word': 'or', 'start': 65, 'end': 67}, {'entity_group': 'Disease', 'score': np.float32(0.9494301), 'word': '##th', 'start': 67, 'end': 69}, {'entity_group': 'Disease', 'score': np.float32(0.9672202), 'word': '##op', 'start': 69, 'end': 71}, {'entity_group': 'Disease', 'score': np.float32(0.96502066), 'word': '##ae', 'start': 71, 'end': 73}, {'entity_group': 'Disease', 'score': np.float32(0.812373), 'word': '##dic device infection', 'start': 73, 'end': 93}, {'entity_group': 'Disease', 'score': np.float32(0.98867023), 'word': 'Pro', 'start': 95, 'end': 98}, {'entity_group': 'Disease', 'score': np.float32(0.9901896), 'word': '##st', 'start': 98, 'end': 100}, {'entity_group': 'Disease', 'score': np.float32(0.9863632), 'word': '##hetic joint infections', 'start': 100, 'end': 122}, {'entity_group': 'Disease', 'score': np.float32(0.9716655), 'word': 'pro', 'start': 624, 'end': 627}, {'entity_group': 'Disease', 'score': np.float32(0.98082167), 'word': '##st', 'start': 627, 'end': 629}, {'entity_group': 'Disease', 'score': np.float32(0.97423244), 'word': '##hetic joint infections', 'start': 629, 'end': 651}, {'entity_group': 'Disease', 'score': np.float32(0.64937025), 'word': 'or', 'start': 717, 'end': 719}, {'entity_group': 'Disease', 'score': np.float32(0.58642656), 'word': '##th', 'start': 719, 'end': 721}, {'entity_group': 'Disease', 'score': np.float32(0.6809378), 'word': '##op', 'start': 721, 'end': 723}, {'entity_group': 'Disease', 'score': np.float32(0.4777696), 'word': '##ae', 'start': 723, 'end': 725}, {'entity_group': 'Disease', 'score': np.float32(0.9704277), 'word': 'pro', 'start': 1533, 'end': 1536}, {'entity_group': 'Disease', 'score': np.float32(0.9781246), 'word': '##st', 'start': 1536, 'end': 1538}, {'entity_group': 'Disease', 'score': np.float32(0.97208285), 'word': '##hetic joint infections', 'start': 1538, 'end': 1560}]\n",
      " - or (Disease): 0.938\n",
      " - ##th (Disease): 0.949\n",
      " - ##op (Disease): 0.967\n",
      " - ##ae (Disease): 0.965\n",
      " - ##dic device infection (Disease): 0.812\n",
      " - Pro (Disease): 0.989\n",
      " - ##st (Disease): 0.990\n",
      " - ##hetic joint infections (Disease): 0.986\n",
      " - pro (Disease): 0.972\n",
      " - ##st (Disease): 0.981\n",
      " - ##hetic joint infections (Disease): 0.974\n",
      " - or (Disease): 0.649\n",
      " - ##th (Disease): 0.586\n",
      " - ##op (Disease): 0.681\n",
      " - ##ae (Disease): 0.478\n",
      " - pro (Disease): 0.970\n",
      " - ##st (Disease): 0.978\n",
      " - ##hetic joint infections (Disease): 0.972\n",
      "\n",
      "--- PMID: 3 ---\n",
      "[]\n",
      "\n",
      "--- PMID: 4 ---\n",
      "[]\n",
      "\n",
      "--- PMID: 5 ---\n",
      "[]\n"
     ]
    }
   ],
   "source": [
    "for idx, row in biorxiv_df.iterrows():\n",
    "    pmid = row[\"PMID\"]\n",
    "    text = f\"{row['Title']} {row['Abstract']}\"\n",
    "    \n",
    "    print(f\"\\n--- PMID: {pmid} ---\")\n",
    "\n",
    "    try:\n",
    "        entities = ner_pipeline(text)\n",
    "        print(entities)\n",
    "        for ent in entities:\n",
    "            print(f\" - {ent['word']} ({ent['entity_group']}): {ent['score']:.3f}\")\n",
    "    except Exception as e:\n",
    "        print(f\"Error processing PMID {pmid}: {e}\")"
   ]
  },
  {
   "cell_type": "code",
   "execution_count": null,
   "id": "03267b23",
   "metadata": {},
   "outputs": [],
   "source": []
  },
  {
   "cell_type": "code",
   "execution_count": null,
   "id": "59494fb7",
   "metadata": {},
   "outputs": [],
   "source": []
  }
 ],
 "metadata": {
  "kernelspec": {
   "display_name": "venv",
   "language": "python",
   "name": "python3"
  },
  "language_info": {
   "codemirror_mode": {
    "name": "ipython",
    "version": 3
   },
   "file_extension": ".py",
   "mimetype": "text/x-python",
   "name": "python",
   "nbconvert_exporter": "python",
   "pygments_lexer": "ipython3",
   "version": "3.10.12"
  }
 },
 "nbformat": 4,
 "nbformat_minor": 5
}
