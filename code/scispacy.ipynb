{
 "cells": [
  {
   "cell_type": "markdown",
   "id": "543fcdb3",
   "metadata": {},
   "source": [
    "## scispacy NER Models Analysis\n",
    "\n",
    "This notebook explores the following scispacy models for NER in the biomedical domain using text from different corpus\n",
    "\n",
    "Models Considered:\n",
    "1. en_ner_craft_md\n",
    "2. en_ner_jnlpba_md\n",
    "3. en_ner_bc5cdr_md\n",
    "4. en_ner_bionlp13cg_md\n",
    "\n",
    "Document Sources:\n",
    "1. PubMed\n",
    "2. bioRxiv\n"
   ]
  },
  {
   "cell_type": "code",
   "execution_count": 45,
   "id": "325c51d9",
   "metadata": {},
   "outputs": [],
   "source": [
    "# !pip install scispacy\n",
    "# ! pip install https://s3-us-west-2.amazonaws.com/ai2-s2-scispacy/releases/v0.5.0/en_ner_craft_md-0.5.0.tar.gz\n",
    "# ! pip install https://s3-us-west-2.amazonaws.com/ai2-s2-scispacy/releases/v0.5.0/en_ner_jnlpba_md-0.5.0.tar.gz\n",
    "# # !pip install https://s3-us-west-2.amazonaws.com/ai2-s2-scispacy/releases/v0.5.0/en_ner_bc5cdr_md-0.5.0.tar.gz\n",
    "# ! pip install https://s3-us-west-2.amazonaws.com/ai2-s2-scispacy/releases/v0.5.0/en_ner_bionlp13cg_md-0.5.0.tar.gz\n",
    "\n",
    "import spacy\n",
    "import pandas as pd\n"
   ]
  },
  {
   "cell_type": "code",
   "execution_count": 46,
   "id": "b5b8d47a",
   "metadata": {},
   "outputs": [
    {
     "name": "stderr",
     "output_type": "stream",
     "text": [
      "/home/ubuntu/phd-experiments/venv/lib/python3.10/site-packages/spacy/util.py:910: UserWarning: [W095] Model 'en_ner_craft_md' (0.5.0) was trained with spaCy v3.2.3 and may not be 100% compatible with the current version (3.7.5). If you see errors or degraded performance, download a newer compatible model or retrain your custom model with the current spaCy version. For more details and available updates, run: python -m spacy validate\n",
      "  warnings.warn(warn_msg)\n",
      "/home/ubuntu/phd-experiments/venv/lib/python3.10/site-packages/spacy/util.py:910: UserWarning: [W095] Model 'en_ner_bc5cdr_md' (0.5.0) was trained with spaCy v3.2.3 and may not be 100% compatible with the current version (3.7.5). If you see errors or degraded performance, download a newer compatible model or retrain your custom model with the current spaCy version. For more details and available updates, run: python -m spacy validate\n",
      "  warnings.warn(warn_msg)\n",
      "/home/ubuntu/phd-experiments/venv/lib/python3.10/site-packages/spacy/util.py:910: UserWarning: [W095] Model 'en_ner_jnlpba_md' (0.5.0) was trained with spaCy v3.2.3 and may not be 100% compatible with the current version (3.7.5). If you see errors or degraded performance, download a newer compatible model or retrain your custom model with the current spaCy version. For more details and available updates, run: python -m spacy validate\n",
      "  warnings.warn(warn_msg)\n",
      "/home/ubuntu/phd-experiments/venv/lib/python3.10/site-packages/spacy/util.py:910: UserWarning: [W095] Model 'en_ner_bionlp13cg_md' (0.5.0) was trained with spaCy v3.2.3 and may not be 100% compatible with the current version (3.7.5). If you see errors or degraded performance, download a newer compatible model or retrain your custom model with the current spaCy version. For more details and available updates, run: python -m spacy validate\n",
      "  warnings.warn(warn_msg)\n"
     ]
    }
   ],
   "source": [
    "model_craft = spacy.load(\"en_ner_craft_md\")\n",
    "model_bc5cdr = spacy.load(\"en_ner_bc5cdr_md\")\n",
    "model_jnlpba = spacy.load(\"en_ner_jnlpba_md\")\n",
    "model_bionlp = spacy.load(\"en_ner_bionlp13cg_md\")"
   ]
  },
  {
   "cell_type": "code",
   "execution_count": 47,
   "id": "9ee06953",
   "metadata": {},
   "outputs": [
    {
     "name": "stdout",
     "output_type": "stream",
     "text": [
      "CRAFT MODEL: ['tok2vec', 'tagger', 'attribute_ruler', 'lemmatizer', 'parser', 'ner']\n",
      "JNLPBA MODEL: ['tok2vec', 'tagger', 'attribute_ruler', 'lemmatizer', 'parser', 'ner']\n",
      "BC5CDR MODEL: ['tok2vec', 'tagger', 'attribute_ruler', 'lemmatizer', 'parser', 'ner']\n",
      "BIONLP MODEL: ['tok2vec', 'tagger', 'attribute_ruler', 'lemmatizer', 'parser', 'ner']\n"
     ]
    }
   ],
   "source": [
    "print(\"CRAFT MODEL:\", model_craft.component_names)\n",
    "print(\"JNLPBA MODEL:\", model_jnlpba.component_names)\n",
    "print(\"BC5CDR MODEL:\", model_bc5cdr.component_names)\n",
    "print(\"BIONLP MODEL:\", model_bionlp.component_names)"
   ]
  },
  {
   "cell_type": "code",
   "execution_count": 48,
   "id": "72410ce7",
   "metadata": {},
   "outputs": [
    {
     "name": "stdout",
     "output_type": "stream",
     "text": [
      "CRAFT LABELS:\n",
      "\n",
      "CHEBI\n",
      "CL\n",
      "GGP\n",
      "GO\n",
      "SO\n",
      "TAXON\n",
      "\n",
      "JNLPBA LABELS:\n",
      "\n",
      "CELL_LINE\n",
      "CELL_TYPE\n",
      "DNA\n",
      "PROTEIN\n",
      "RNA\n",
      "\n",
      "BC5CDR LABELS:\n",
      "\n",
      "CHEMICAL\n",
      "DISEASE\n",
      "\n",
      "BIONLP LABELS:\n",
      "\n",
      "AMINO_ACID\n",
      "ANATOMICAL_SYSTEM\n",
      "CANCER\n",
      "CELL\n",
      "CELLULAR_COMPONENT\n",
      "DEVELOPING_ANATOMICAL_STRUCTURE\n",
      "GENE_OR_GENE_PRODUCT\n",
      "IMMATERIAL_ANATOMICAL_ENTITY\n",
      "MULTI_TISSUE_STRUCTURE\n",
      "ORGAN\n",
      "ORGANISM\n",
      "ORGANISM_SUBDIVISION\n",
      "ORGANISM_SUBSTANCE\n",
      "PATHOLOGICAL_FORMATION\n",
      "SIMPLE_CHEMICAL\n",
      "TISSUE\n"
     ]
    }
   ],
   "source": [
    "print(\"CRAFT LABELS:\\n\")\n",
    "for label in model_craft.get_pipe(\"ner\").labels:\n",
    "    print(label)\n",
    "print(\"\\nJNLPBA LABELS:\\n\")\n",
    "for label in model_jnlpba.get_pipe(\"ner\").labels:\n",
    "    print(label)\n",
    "print(\"\\nBC5CDR LABELS:\\n\")\n",
    "for label in model_bc5cdr.get_pipe(\"ner\").labels:\n",
    "    print(label)\n",
    "print(\"\\nBIONLP LABELS:\\n\")\n",
    "for label in model_bionlp.get_pipe(\"ner\").labels:\n",
    "    print(label)"
   ]
  },
  {
   "cell_type": "code",
   "execution_count": 49,
   "id": "f5c41f44",
   "metadata": {},
   "outputs": [],
   "source": [
    "pubmed_df = pd.read_csv(\"../data/pubmed_papers.tsv\", sep=\"\\t\")\n",
    "\n",
    "biorxiv_df = pd.read_csv(\"../data/biorxiv_papers.tsv\", sep=\"\\t\")"
   ]
  },
  {
   "cell_type": "markdown",
   "id": "8c1141ba",
   "metadata": {},
   "source": [
    "### Model: en_ner_craft_md"
   ]
  },
  {
   "cell_type": "code",
   "execution_count": 50,
   "id": "5404ba1a",
   "metadata": {},
   "outputs": [
    {
     "name": "stdout",
     "output_type": "stream",
     "text": [
      "\n",
      "--- PMID: 28600191 ---\n",
      "\n",
      "--- PMID: 19243676 ---\n",
      "food CHEBI 478 482\n",
      "\n",
      "--- PMID: 10793294 ---\n",
      "rabbit TAXON 17 23\n",
      "rabbit TAXON 102 108\n",
      "cells CL 135 140\n",
      "epithelial cells CL 225 241\n",
      "oxygen species CHEBI 287 301\n",
      "hydroxyl radical CHEBI 398 414\n",
      "cells CL 420 425\n",
      "lipid CHEBI 436 441\n",
      "catalase GGP 500 508\n",
      "enzyme SO 647 653\n",
      "Superoxide dismutase GGP 666 686\n",
      "SOD GGP 688 691\n",
      "cells CL 739 744\n",
      "c-myc mRNA GGP 900 910\n",
      "cytokeratin 13 GGP 1070 1084\n",
      "message SO 1107 1114\n",
      "protein CHEBI 1119 1126\n",
      "cells CL 1139 1144\n",
      "c-myc GGP 1224 1229\n",
      "lipid CHEBI 1290 1295\n",
      "\n",
      "--- PMID: 24463521 ---\n",
      "Drosophila TAXON 57 67\n",
      "Drosophila melanogaster TAXON 467 490\n",
      "flies TAXON 1335 1340\n",
      "\n",
      "--- PMID: 25984610 ---\n"
     ]
    }
   ],
   "source": [
    "for idx, row in pubmed_df.iterrows():\n",
    "    pmid = row[\"PMID\"]\n",
    "    text = f\"{row['Title']} {row['Abstract']}\"\n",
    "    print(f\"\\n--- PMID: {pmid} ---\")\n",
    "\n",
    "    try:\n",
    "        doc = model_craft(text)\n",
    "        for ent in doc.ents:\n",
    "            print(ent.text, ent.label_, ent.start_char, ent.end_char)\n",
    "    except Exception as e:\n",
    "        print(f\"Error processing PMID {pmid}: {e}\")"
   ]
  },
  {
   "cell_type": "code",
   "execution_count": 51,
   "id": "a90aac28",
   "metadata": {},
   "outputs": [
    {
     "name": "stdout",
     "output_type": "stream",
     "text": [
      "\n",
      "--- PMID: 1 ---\n"
     ]
    },
    {
     "name": "stdout",
     "output_type": "stream",
     "text": [
      "Peptide SO 0 7\n",
      "human TAXON 98 103\n",
      "protein CHEBI 192 199\n",
      "protein CHEBI 254 261\n",
      "protein CHEBI 353 360\n",
      "Protein CHEBI 375 382\n",
      "bacterial species TAXON 450 467\n",
      "human TAXON 500 505\n",
      "microbiome TAXON 510 520\n",
      "human TAXON 540 545\n",
      "microbiome TAXON 653 663\n",
      "microbes TAXON 694 702\n",
      "peptide SO 769 776\n",
      "human TAXON 863 868\n",
      "microbiomes TAXON 873 884\n",
      "drug CHEBI 906 910\n",
      "peptides SO 950 958\n",
      "protein CHEBI 973 980\n",
      "peptide SO 1079 1086\n",
      "peptides SO 1112 1120\n",
      "peptide SO 1180 1187\n",
      "peptide SO 1330 1337\n",
      "peptide SO 1400 1407\n",
      "proteins CHEBI 1467 1475\n",
      "proteins CHEBI 1574 1582\n",
      "peptide SO 1634 1641\n",
      "human TAXON 1716 1721\n",
      "\n",
      "--- PMID: 2 ---\n",
      "gold CHEBI 278 282\n",
      "sequence SO 561 569\n",
      "bacterial TAXON 599 608\n",
      "DNA SO 653 656\n",
      "DNA SO 1086 1089\n",
      "sequences SO 1303 1312\n",
      "sequence SO 1637 1645\n",
      "human DNA TAXON 1675 1684\n",
      "genome SO 1711 1717\n",
      "genome SO 1793 1799\n",
      "\n",
      "--- PMID: 3 ---\n",
      "gene SO 4 8\n",
      "aphid genome assemblies TAXON 35 58\n",
      "genes SO 89 94\n",
      "gene SO 99 103\n",
      "genome SO 131 137\n",
      "gene SO 176 180\n",
      "sequence SO 319 327\n",
      "genome SO 339 345\n",
      "gene SO 400 404\n",
      "genes SO 493 498\n",
      "gene SO 618 622\n",
      "mis-annotation SO 666 680\n",
      "genes SO 684 689\n",
      "aphid genomes TAXON 808 821\n",
      "gene SO 856 860\n",
      "gene SO 1003 1007\n",
      "genes SO 1044 1049\n",
      "gene SO 1290 1294\n",
      "promoters SO 1333 1342\n",
      "isoforms SO 1347 1355\n",
      "gene SO 1377 1381\n",
      "gene SO 1535 1539\n",
      "\n",
      "--- PMID: 4 ---\n",
      "MGMG CHEBI 0 4\n",
      "Cell CL 6 10\n",
      "Molecule CHEBI 29 37\n",
      "Drug CHEBI 53 57\n",
      "molecules CHEBI 85 94\n",
      "drug CHEBI 155 159\n",
      "molecular CHEBI 176 185\n",
      "drug CHEBI 221 225\n",
      "drug CHEBI 272 276\n",
      "Molecule CHEBI 417 425\n",
      "MGMG CHEBI 438 442\n",
      "drug CHEBI 458 462\n",
      "cellular CL 507 515\n",
      "compound CHEBI 544 552\n",
      "molecular CHEBI 569 578\n",
      "molecular CHEBI 618 627\n",
      "Cell CL 648 652\n",
      "molecular CHEBI 807 816\n",
      "MGMG CHEBI 889 893\n",
      "molecule CHEBI 917 925\n",
      "MGMG CHEBI 1058 1062\n",
      "genetic SO 1086 1093\n",
      "gene SO 1140 1144\n",
      "molecules CHEBI 1296 1305\n",
      "MGMG CHEBI 1482 1486\n",
      "molecule CHEBI 1558 1566\n",
      "compound CHEBI 1615 1623\n",
      "\n",
      "--- PMID: 5 ---\n",
      "Homo TAXON 60 64\n",
      "genetic SO 96 103\n",
      "codons SO 126 132\n",
      "amino acid CHEBI 153 163\n",
      "codon SO 169 174\n",
      "codon SO 294 299\n",
      "codons SO 339 345\n",
      "genome SO 410 416\n",
      "Codon SO 418 423\n",
      "mRNA CHEBI 506 510\n",
      "co-translational protein GGP 547 571\n",
      "codon SO 619 624\n",
      "bacteria TAXON 633 641\n",
      "viruses TAXON 643 650\n",
      "organisms TAXON 669 678\n",
      "humans TAXON 746 752\n",
      "codon SO 840 845\n",
      "humans TAXON 862 868\n",
      "codon SO 890 895\n",
      "protein CHEBI 918 925\n",
      "genes SO 970 975\n",
      "codon SO 1006 1011\n",
      "codon SO 1103 1108\n",
      "protein domains CHEBI 1148 1163\n",
      "regions SO 1201 1208\n",
      "tRNA gene CHEBI 1303 1312\n",
      "genes SO 1347 1352\n",
      "codon SO 1372 1377\n",
      "position codon SO 1503 1517\n",
      "evolutionarily conserved SO 1543 1567\n",
      "protein CHEBI 1607 1614\n",
      "genomic SO 1628 1635\n",
      "humans TAXON 1649 1655\n"
     ]
    }
   ],
   "source": [
    "for idx, row in biorxiv_df.iterrows():\n",
    "    pmid = row[\"PMID\"]\n",
    "    text = f\"{row['Title']} {row['Abstract']}\"\n",
    "    print(f\"\\n--- PMID: {pmid} ---\")\n",
    "\n",
    "    try:\n",
    "        doc = model_craft(text)\n",
    "        for ent in doc.ents:\n",
    "            print(ent.text, ent.label_, ent.start_char, ent.end_char)\n",
    "    except Exception as e:\n",
    "        print(f\"Error processing PMID {pmid}: {e}\")"
   ]
  },
  {
   "cell_type": "markdown",
   "id": "4ba26d1b",
   "metadata": {},
   "source": [
    "### Model: en_ner_bc5cdr_md\n"
   ]
  },
  {
   "cell_type": "code",
   "execution_count": 52,
   "id": "ea640838",
   "metadata": {},
   "outputs": [
    {
     "name": "stdout",
     "output_type": "stream",
     "text": [
      "\n",
      "--- PMID: 28600191 ---\n"
     ]
    },
    {
     "name": "stdout",
     "output_type": "stream",
     "text": [
      "Lipid-polymer CHEMICAL 0 13\n",
      "\n",
      "--- PMID: 19243676 ---\n",
      "\n",
      "--- PMID: 10793294 ---\n",
      "oxygen CHEMICAL 287 293\n",
      "hydroxyl CHEMICAL 398 406\n",
      "Superoxide CHEMICAL 666 676\n",
      "squamous metaplasia DISEASE 784 803\n",
      "squamous metaplasia DISEASE 1355 1374\n",
      "\n",
      "--- PMID: 24463521 ---\n",
      "\n",
      "--- PMID: 25984610 ---\n",
      "alexithymia DISEASE 13 24\n",
      "psychosomatic DISEASE 30 43\n",
      "psoriasis DISEASE 54 63\n",
      "Alexithymia DISEASE 66 77\n",
      "psychosomatic illness DISEASE 246 267\n",
      "alexithymia DISEASE 314 325\n",
      "psoriasis DISEASE 384 393\n",
      "anxiety DISEASE 483 490\n"
     ]
    }
   ],
   "source": [
    "for idx, row in pubmed_df.iterrows():\n",
    "    pmid = row[\"PMID\"]\n",
    "    text = f\"{row['Title']} {row['Abstract']}\"\n",
    "    print(f\"\\n--- PMID: {pmid} ---\")\n",
    "\n",
    "    try:\n",
    "        doc = model_bc5cdr(text)\n",
    "        for ent in doc.ents:\n",
    "            print(ent.text, ent.label_, ent.start_char, ent.end_char)\n",
    "    except Exception as e:\n",
    "        print(f\"Error processing PMID {pmid}: {e}\")"
   ]
  },
  {
   "cell_type": "code",
   "execution_count": 53,
   "id": "d9193741",
   "metadata": {},
   "outputs": [
    {
     "name": "stdout",
     "output_type": "stream",
     "text": [
      "\n",
      "--- PMID: 1 ---\n"
     ]
    },
    {
     "name": "stdout",
     "output_type": "stream",
     "text": [
      "TNPA CHEMICAL 1419 1423\n",
      "\n",
      "--- PMID: 2 ---\n",
      "infection DISEASE 84 93\n",
      "Prosthetic joint infections DISEASE 95 122\n",
      "infections DISEASE 641 651\n",
      "infection DISEASE 1337 1346\n",
      "infections DISEASE 1550 1560\n",
      "\n",
      "--- PMID: 3 ---\n",
      "\n",
      "--- PMID: 4 ---\n",
      "MGMG CHEMICAL 0 4\n",
      "bioactivity DISEASE 108 119\n",
      "MGMG CHEMICAL 438 442\n",
      "MGMG CHEMICAL 889 893\n",
      "MGMG CHEMICAL 1058 1062\n",
      "MGMG CHEMICAL 1482 1486\n",
      "\n",
      "--- PMID: 5 ---\n",
      "amino acid CHEMICAL 153 163\n"
     ]
    }
   ],
   "source": [
    "for idx, row in biorxiv_df.iterrows():\n",
    "    pmid = row[\"PMID\"]\n",
    "    text = f\"{row['Title']} {row['Abstract']}\"\n",
    "    print(f\"\\n--- PMID: {pmid} ---\")\n",
    "\n",
    "    try:\n",
    "        doc = model_bc5cdr(text)\n",
    "        for ent in doc.ents:\n",
    "            print(ent.text, ent.label_, ent.start_char, ent.end_char)\n",
    "    except Exception as e:\n",
    "        print(f\"Error processing PMID {pmid}: {e}\")"
   ]
  },
  {
   "cell_type": "markdown",
   "id": "99dec251",
   "metadata": {},
   "source": [
    "### Model: en_ner_jnlpba_md\n"
   ]
  },
  {
   "cell_type": "code",
   "execution_count": 54,
   "id": "c0ddb253",
   "metadata": {},
   "outputs": [
    {
     "name": "stdout",
     "output_type": "stream",
     "text": [
      "\n",
      "--- PMID: 28600191 ---\n"
     ]
    },
    {
     "name": "stdout",
     "output_type": "stream",
     "text": [
      "LPHNPs PROTEIN 735 741\n",
      "LPHNP PROTEIN 836 841\n",
      "\n",
      "--- PMID: 19243676 ---\n",
      "\n",
      "--- PMID: 10793294 ---\n",
      "rabbit tracheal epithelial ( CELL_TYPE 102 130\n",
      "airway epithelial cells CELL_TYPE 218 241\n",
      "RTE cells CELL_TYPE 416 425\n",
      "catalase PROTEIN 500 508\n",
      "CAT PROTEIN 510 513\n",
      "Superoxide dismutase PROTEIN 666 686\n",
      "SOD PROTEIN 688 691\n",
      "RTE cells CELL_TYPE 735 744\n",
      "c-myc mRNA RNA 900 910\n",
      "c-jun DNA 917 922\n",
      "c-fos DNA 927 932\n",
      "cytokeratin 13 DNA 1070 1084\n",
      "RTE cells CELL_TYPE 1135 1144\n",
      "c-myc DNA 1224 1229\n",
      "CAT PROTEIN 1265 1268\n",
      "\n",
      "--- PMID: 24463521 ---\n",
      "\n",
      "--- PMID: 25984610 ---\n"
     ]
    }
   ],
   "source": [
    "for idx, row in pubmed_df.iterrows():\n",
    "    pmid = row[\"PMID\"]\n",
    "    text = f\"{row['Title']} {row['Abstract']}\"\n",
    "    print(f\"\\n--- PMID: {pmid} ---\")\n",
    "\n",
    "    try:\n",
    "        doc = model_jnlpba(text)\n",
    "        for ent in doc.ents:\n",
    "            print(ent.text, ent.label_, ent.start_char, ent.end_char)\n",
    "    except Exception as e:\n",
    "        print(f\"Error processing PMID {pmid}: {e}\")"
   ]
  },
  {
   "cell_type": "code",
   "execution_count": 55,
   "id": "d6bb0e78",
   "metadata": {},
   "outputs": [
    {
     "name": "stdout",
     "output_type": "stream",
     "text": [
      "\n",
      "--- PMID: 1 ---\n",
      "\n",
      "--- PMID: 2 ---\n",
      "Oxford Nanopore Technologies MinION DNA 816 851\n",
      "MinION sequence DNA 1630 1645\n",
      "human DNA DNA 1675 1684\n",
      "\n",
      "--- PMID: 3 ---\n",
      "pea aphid genome DNA 31 47\n",
      "mis-assemble duplicated genes DNA 469 498\n",
      "promoters DNA 1333 1342\n",
      "\n",
      "--- PMID: 4 ---\n",
      "MGMG-generated molecules PROTEIN 1281 1305\n",
      "\n",
      "--- PMID: 5 ---\n",
      "co-translational protein PROTEIN 547 571\n",
      "extreme codon DNA 1364 1377\n"
     ]
    }
   ],
   "source": [
    "for idx, row in biorxiv_df.iterrows():\n",
    "    pmid = row[\"PMID\"]\n",
    "    text = f\"{row['Title']} {row['Abstract']}\"\n",
    "    print(f\"\\n--- PMID: {pmid} ---\")\n",
    "\n",
    "    try:\n",
    "        doc = model_jnlpba(text)\n",
    "        for ent in doc.ents:\n",
    "            print(ent.text, ent.label_, ent.start_char, ent.end_char)\n",
    "    except Exception as e:\n",
    "        print(f\"Error processing PMID {pmid}: {e}\")"
   ]
  },
  {
   "cell_type": "markdown",
   "id": "6c213ccb",
   "metadata": {},
   "source": [
    "### Model: en_ner_bionlp13cg_md\n"
   ]
  },
  {
   "cell_type": "code",
   "execution_count": 56,
   "id": "4d098692",
   "metadata": {},
   "outputs": [
    {
     "name": "stdout",
     "output_type": "stream",
     "text": [
      "\n",
      "--- PMID: 28600191 ---\n",
      "LPHNP SIMPLE_CHEMICAL 836 841\n",
      "\n",
      "--- PMID: 19243676 ---\n",
      "\n",
      "--- PMID: 10793294 ---\n",
      "rabbit tracheal epithelium ORGANISM 17 43\n",
      "H(2)O(2)-induced SIMPLE_CHEMICAL 56 72\n",
      "rabbit tracheal epithelial ORGANISM 102 128\n",
      "airway epithelial cells CELL 218 241\n",
      "reactive oxygen species SIMPLE_CHEMICAL 278 301\n",
      "ROS SIMPLE_CHEMICAL 303 306\n",
      "hydroxyl SIMPLE_CHEMICAL 398 406\n",
      "RTE cells CELL 416 425\n",
      "lipid IMMATERIAL_ANATOMICAL_ENTITY 436 441\n",
      "catalase GENE_OR_GENE_PRODUCT 500 508\n",
      "CAT GENE_OR_GENE_PRODUCT 510 513\n",
      "3-day-old cultures CELL 562 580\n",
      "7-day-old cultures CELL 598 616\n",
      "Superoxide dismutase GENE_OR_GENE_PRODUCT 666 686\n",
      "SOD SIMPLE_CHEMICAL 688 691\n",
      "RTE cells CELL 735 744\n",
      "squamous metaplasia CANCER 784 803\n",
      "c-myc GENE_OR_GENE_PRODUCT 900 905\n",
      "c-jun GENE_OR_GENE_PRODUCT 917 922\n",
      "c-fos GENE_OR_GENE_PRODUCT 927 932\n",
      "squamous CANCER 1012 1020\n",
      "cytokeratin GENE_OR_GENE_PRODUCT 1070 1081\n",
      "RTE cells CELL 1135 1144\n",
      "c-myc GENE_OR_GENE_PRODUCT 1224 1229\n",
      "CAT CANCER 1265 1268\n",
      "lipid SIMPLE_CHEMICAL 1290 1295\n",
      "tracheal epithelium TISSUE 1324 1343\n",
      "squamous metaplasia CANCER 1355 1374\n",
      "\n",
      "--- PMID: 24463521 ---\n",
      "Drosophila ORGANISM 57 67\n",
      "Drosophila melanogaster ORGANISM 467 490\n",
      "\n",
      "--- PMID: 25984610 ---\n",
      "patients ORGANISM 370 378\n"
     ]
    }
   ],
   "source": [
    "for idx, row in pubmed_df.iterrows():\n",
    "    pmid = row[\"PMID\"]\n",
    "    text = f\"{row['Title']} {row['Abstract']}\"\n",
    "    print(f\"\\n--- PMID: {pmid} ---\")\n",
    "\n",
    "    try:\n",
    "        doc = model_bionlp(text)\n",
    "        for ent in doc.ents:\n",
    "            print(ent.text, ent.label_, ent.start_char, ent.end_char)\n",
    "    except Exception as e:\n",
    "        print(f\"Error processing PMID {pmid}: {e}\")"
   ]
  },
  {
   "cell_type": "code",
   "execution_count": 57,
   "id": "a0d6463b",
   "metadata": {},
   "outputs": [
    {
     "name": "stdout",
     "output_type": "stream",
     "text": [
      "\n",
      "--- PMID: 1 ---\n"
     ]
    },
    {
     "name": "stdout",
     "output_type": "stream",
     "text": [
      "human gut ORGANISM 98 107\n",
      "human gut ORGANISM 500 509\n",
      "human ORGANISM 540 545\n",
      "gut ORGANISM_SUBDIVISION 690 693\n",
      "human gut ORGANISM 863 872\n",
      "TNPA SIMPLE_CHEMICAL 1419 1423\n",
      "human gut ORGANISM 1716 1725\n",
      "\n",
      "--- PMID: 2 ---\n",
      "joint MULTI_TISSUE_STRUCTURE 106 111\n",
      "joint MULTI_TISSUE_STRUCTURE 635 640\n",
      "DNA CELLULAR_COMPONENT 653 656\n",
      "fluids ORGANISM_SUBSTANCE 691 697\n",
      "DNA CELLULAR_COMPONENT 1086 1089\n",
      "joint MULTI_TISSUE_STRUCTURE 1544 1549\n",
      "human DNA ORGANISM 1675 1684\n",
      "extracts ORGANISM_SUBSTANCE 1688 1696\n",
      "\n",
      "--- PMID: 3 ---\n",
      "pea aphid genome GENE_OR_GENE_PRODUCT 31 47\n",
      "pea aphid TISSUE 751 760\n",
      "pea aphid TISSUE 804 813\n",
      "pea aphids TISSUE 889 899\n",
      "\n",
      "--- PMID: 4 ---\n",
      "MGMG SIMPLE_CHEMICAL 0 4\n",
      "Cell CELL 6 10\n",
      "MGMG SIMPLE_CHEMICAL 438 442\n",
      "cellular CELL 507 515\n",
      "Cell CELL 648 652\n",
      "MGMG SIMPLE_CHEMICAL 889 893\n",
      "MGMG SIMPLE_CHEMICAL 1058 1062\n",
      "MGMG SIMPLE_CHEMICAL 1482 1486\n",
      "\n",
      "--- PMID: 5 ---\n",
      "amino acid AMINO_ACID 153 163\n",
      "layer MULTI_TISSUE_STRUCTURE 453 458\n",
      "co-translational CELLULAR_COMPONENT 547 563\n",
      "humans ORGANISM 746 752\n",
      "humans ORGANISM 862 868\n",
      "humans ORGANISM 1649 1655\n"
     ]
    }
   ],
   "source": [
    "for idx, row in biorxiv_df.iterrows():\n",
    "    pmid = row[\"PMID\"]\n",
    "    text = f\"{row['Title']} {row['Abstract']}\"\n",
    "    print(f\"\\n--- PMID: {pmid} ---\")\n",
    "\n",
    "    try:\n",
    "        doc = model_bionlp(text)\n",
    "        for ent in doc.ents:\n",
    "            print(ent.text, ent.label_, ent.start_char, ent.end_char)\n",
    "    except Exception as e:\n",
    "        print(f\"Error processing PMID {pmid}: {e}\")"
   ]
  },
  {
   "cell_type": "code",
   "execution_count": null,
   "id": "c2945829",
   "metadata": {},
   "outputs": [],
   "source": []
  }
 ],
 "metadata": {
  "kernelspec": {
   "display_name": "venv",
   "language": "python",
   "name": "python3"
  },
  "language_info": {
   "codemirror_mode": {
    "name": "ipython",
    "version": 3
   },
   "file_extension": ".py",
   "mimetype": "text/x-python",
   "name": "python",
   "nbconvert_exporter": "python",
   "pygments_lexer": "ipython3",
   "version": "3.10.12"
  }
 },
 "nbformat": 4,
 "nbformat_minor": 5
}
