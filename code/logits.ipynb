{
 "cells": [
  {
   "cell_type": "code",
   "execution_count": null,
   "id": "3f8cb4ee",
   "metadata": {},
   "outputs": [
    {
     "name": "stdout",
     "output_type": "stream",
     "text": [
      "TokenClassifierOutput(loss=None, logits=tensor([[[ 5.0907, -5.5045],\n",
      "         [-5.5031,  6.2520],\n",
      "         [ 5.0907, -5.5045],\n",
      "         [ 5.5359, -6.3834],\n",
      "         [ 5.5366, -6.3828],\n",
      "         [-0.5336,  0.9114],\n",
      "         [ 5.5443, -6.3802],\n",
      "         [ 5.5438, -6.3801],\n",
      "         [ 5.5430, -6.3712],\n",
      "         [ 4.6775, -4.9554],\n",
      "         [ 5.5426, -6.3823],\n",
      "         [ 5.5399, -6.3825],\n",
      "         [ 5.5370, -6.3835],\n",
      "         [ 5.5396, -6.3827],\n",
      "         [ 5.5357, -6.3827],\n",
      "         [ 5.5402, -6.3828],\n",
      "         [ 5.5346, -6.3829],\n",
      "         [ 5.5376, -6.3830],\n",
      "         [ 5.5383, -6.3833],\n",
      "         [ 5.0908, -5.5046],\n",
      "         [ 5.0907, -5.5045]]], grad_fn=<ViewBackward0>), hidden_states=None, attentions=None)\n"
     ]
    }
   ],
   "source": [
    "from transformers import AutoTokenizer\n",
    "from transformers import BertForTokenClassification\n",
    "import torch\n",
    "\n",
    "device = torch.device(\"cuda\" if torch.cuda.is_available() else \"cpu\")\n",
    "\n",
    "modelname = 'MilosKosRad/BioNER' \n",
    "tokenizer = AutoTokenizer.from_pretrained(modelname)\n",
    "string1 = 'Drug'\n",
    "string2 = 'No recent antibiotics or other nephrotoxins, and no symptoms of UTI with benign UA.'\n",
    "encodings = tokenizer(string1, string2, is_split_into_words=False,\n",
    "                      padding=True, truncation=True, add_special_tokens=True, return_offsets_mapping=False,\n",
    "                      max_length=512, return_tensors='pt')\n",
    "\n",
    "model0 = BertForTokenClassification.from_pretrained(modelname, num_labels=2)\n",
    "prediction_logits = model0(**encodings)\n",
    "print(prediction_logits)\n"
   ]
  }
 ],
 "metadata": {
  "kernelspec": {
   "display_name": "venv",
   "language": "python",
   "name": "python3"
  },
  "language_info": {
   "codemirror_mode": {
    "name": "ipython",
    "version": 3
   },
   "file_extension": ".py",
   "mimetype": "text/x-python",
   "name": "python",
   "nbconvert_exporter": "python",
   "pygments_lexer": "ipython3",
   "version": "3.10.12"
  }
 },
 "nbformat": 4,
 "nbformat_minor": 5
}
